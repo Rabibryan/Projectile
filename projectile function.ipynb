{
 "cells": [
  {
   "cell_type": "markdown",
   "metadata": {},
   "source": [
    "# Function"
   ]
  },
  {
   "cell_type": "markdown",
   "metadata": {},
   "source": [
    "## Projectile\n",
    "$R = u^2\\frac{sin2\\theta}{g}$\n",
    "\n",
    "$T = \\frac{2usin\\theta}{g}$\n",
    "\n",
    "$H = u^2\\frac{sin^2\\theta}{2g}$"
   ]
  },
  {
   "cell_type": "code",
   "execution_count": 1,
   "metadata": {},
   "outputs": [],
   "source": [
    "import numpy as np                     # from numpy import* not required to write np\n",
    "import pandas as pd                    # from pandas import* \n",
    "import matplotlib.pyplot as plt    # from matplotlib import*\n",
    "%matplotlib inline"
   ]
  },
  {
   "cell_type": "code",
   "execution_count": 2,
   "metadata": {},
   "outputs": [],
   "source": [
    "def projectile(u,theta):\n",
    "    g = 9.8\n",
    "    R = u**2*np.sin(2*np.pi*theta/180)/g \n",
    "    H = u**2*np.sin(np.pi*theta/180)**2/(2*g)\n",
    "    T = 2*u*np.sin(np.pi*theta/180)/g\n",
    "    return [R,H,T]"
   ]
  },
  {
   "cell_type": "code",
   "execution_count": 3,
   "metadata": {},
   "outputs": [
    {
     "data": {
      "text/plain": [
       "[883.699391616774, 382.6530612244897, 17.67398783233548]"
      ]
     },
     "execution_count": 3,
     "metadata": {},
     "output_type": "execute_result"
    }
   ],
   "source": [
    "f=projectile(100,60)\n",
    "f"
   ]
  },
  {
   "cell_type": "code",
   "execution_count": 4,
   "metadata": {},
   "outputs": [],
   "source": [
    "Angle =[]\n",
    "R=[]\n",
    "H =[]\n",
    "T =[]\n",
    "for angle in range(1,91):\n",
    "    a=projectile(100,angle)\n",
    "    Angle.append(angle)\n",
    "    R.append(a[0])\n",
    "    H.append(a[1])\n",
    "    T.append(a[2])"
   ]
  },
  {
   "cell_type": "code",
   "execution_count": 15,
   "metadata": {},
   "outputs": [
    {
     "data": {
      "text/plain": [
       "Text(0.5, 1.0, 'Projectile')"
      ]
     },
     "execution_count": 15,
     "metadata": {},
     "output_type": "execute_result"
    },
    {
     "data": {
      "image/png": "[encoded data removed]",
      "text/plain": [
       "<Figure size 432x288 with 1 Axes>"
      ]
     },
     "metadata": {
      "needs_background": "light"
     },
     "output_type": "display_data"
    }
   ],
   "source": [
    "plt.plot(Angle,R,'r.',label='Range')\n",
    "plt.plot(Angle,H,'g.',label='Max.height')\n",
    "plt.legend()\n",
    "plt.xlabel('Angle(degree)')\n",
    "plt.ylabel('Distance(m)')\n",
    "plt.title('Projectile')\n"
   ]
  },
  {
   "cell_type": "code",
   "execution_count": 6,
   "metadata": {},
   "outputs": [
    {
     "name": "stderr",
     "output_type": "stream",
     "text": [
      "No handles with labels found to put in legend.\n"
     ]
    },
    {
     "data": {
      "image/png": "[encoded data removed]",
      "text/plain": [
       "<Figure size 432x288 with 1 Axes>"
      ]
     },
     "metadata": {
      "needs_background": "light"
     },
     "output_type": "display_data"
    }
   ],
   "source": [
    "plt.plot(Angle,T,'r')\n",
    "plt.xlabel('Angle(degree)')\n",
    "plt.ylabel('Time of flight(second)')\n",
    "plt.title('projectile')\n",
    "plt.savefig('projectile.eps')\n",
    "\n",
    "plt.grid(True)\n",
    "plt.show()"
   ]
  },
  {
   "cell_type": "code",
   "execution_count": 7,
   "metadata": {},
   "outputs": [],
   "source": [
    "data={}  #dictionary\n",
    "data.update({\"Angle\":Angle,\"Range\":R,\"time of flight\":T,\"Maximum height\":H})"
   ]
  },
  {
   "cell_type": "code",
   "execution_count": 17,
   "metadata": {},
   "outputs": [
    {
     "data": {
      "text/html": [
       "<div>\n",
       "<style scoped>\n",
       "    .dataframe tbody tr th:only-of-type {\n",
       "        vertical-align: middle;\n",
       "    }\n",
       "\n",
       "    .dataframe tbody tr th {\n",
       "        vertical-align: top;\n",
       "    }\n",
       "\n",
       "    .dataframe thead th {\n",
       "        text-align: right;\n",
       "    }\n",
       "</style>\n",
       "<table border=\"1\" class=\"dataframe\">\n",
       "  <thead>\n",
       "    <tr style=\"text-align: right;\">\n",
       "      <th></th>\n",
       "      <th>Angle</th>\n",
       "      <th>Range</th>\n",
       "      <th>time of flight</th>\n",
       "      <th>Maximum height</th>\n",
       "    </tr>\n",
       "  </thead>\n",
       "  <tbody>\n",
       "    <tr>\n",
       "      <th>0</th>\n",
       "      <td>1</td>\n",
       "      <td>3.561173e+01</td>\n",
       "      <td>0.356172</td>\n",
       "      <td>0.155401</td>\n",
       "    </tr>\n",
       "    <tr>\n",
       "      <th>1</th>\n",
       "      <td>2</td>\n",
       "      <td>7.118008e+01</td>\n",
       "      <td>0.712235</td>\n",
       "      <td>0.621416</td>\n",
       "    </tr>\n",
       "    <tr>\n",
       "      <th>2</th>\n",
       "      <td>3</td>\n",
       "      <td>1.066617e+02</td>\n",
       "      <td>1.068081</td>\n",
       "      <td>1.397476</td>\n",
       "    </tr>\n",
       "    <tr>\n",
       "      <th>3</th>\n",
       "      <td>4</td>\n",
       "      <td>1.420134e+02</td>\n",
       "      <td>1.423602</td>\n",
       "      <td>2.482636</td>\n",
       "    </tr>\n",
       "    <tr>\n",
       "      <th>4</th>\n",
       "      <td>5</td>\n",
       "      <td>1.771920e+02</td>\n",
       "      <td>1.778689</td>\n",
       "      <td>3.875573</td>\n",
       "    </tr>\n",
       "    <tr>\n",
       "      <th>...</th>\n",
       "      <td>...</td>\n",
       "      <td>...</td>\n",
       "      <td>...</td>\n",
       "      <td>...</td>\n",
       "    </tr>\n",
       "    <tr>\n",
       "      <th>85</th>\n",
       "      <td>86</td>\n",
       "      <td>1.420134e+02</td>\n",
       "      <td>20.358450</td>\n",
       "      <td>507.721446</td>\n",
       "    </tr>\n",
       "    <tr>\n",
       "      <th>86</th>\n",
       "      <td>87</td>\n",
       "      <td>1.066617e+02</td>\n",
       "      <td>20.380195</td>\n",
       "      <td>508.806606</td>\n",
       "    </tr>\n",
       "    <tr>\n",
       "      <th>87</th>\n",
       "      <td>88</td>\n",
       "      <td>7.118008e+01</td>\n",
       "      <td>20.395731</td>\n",
       "      <td>509.582666</td>\n",
       "    </tr>\n",
       "    <tr>\n",
       "      <th>88</th>\n",
       "      <td>89</td>\n",
       "      <td>3.561173e+01</td>\n",
       "      <td>20.405055</td>\n",
       "      <td>510.048680</td>\n",
       "    </tr>\n",
       "    <tr>\n",
       "      <th>89</th>\n",
       "      <td>90</td>\n",
       "      <td>1.249640e-13</td>\n",
       "      <td>20.408163</td>\n",
       "      <td>510.204082</td>\n",
       "    </tr>\n",
       "  </tbody>\n",
       "</table>\n",
       "<p>90 rows × 4 columns</p>\n",
       "</div>"
      ],
      "text/plain": [
       "    Angle         Range  time of flight  Maximum height\n",
       "0       1  3.561173e+01        0.356172        0.155401\n",
       "1       2  7.118008e+01        0.712235        0.621416\n",
       "2       3  1.066617e+02        1.068081        1.397476\n",
       "3       4  1.420134e+02        1.423602        2.482636\n",
       "4       5  1.771920e+02        1.778689        3.875573\n",
       "..    ...           ...             ...             ...\n",
       "85     86  1.420134e+02       20.358450      507.721446\n",
       "86     87  1.066617e+02       20.380195      508.806606\n",
       "87     88  7.118008e+01       20.395731      509.582666\n",
       "88     89  3.561173e+01       20.405055      510.048680\n",
       "89     90  1.249640e-13       20.408163      510.204082\n",
       "\n",
       "[90 rows x 4 columns]"
      ]
     },
     "execution_count": 17,
     "metadata": {},
     "output_type": "execute_result"
    }
   ],
   "source": [
    "DF = pd.DataFrame(data)\n",
    "DF\n"
   ]
  },
  {
   "cell_type": "code",
   "execution_count": 9,
   "metadata": {},
   "outputs": [],
   "source": [
    "DF.to_csv(\"projectile.csv\")"
   ]
  },
  {
   "cell_type": "code",
   "execution_count": null,
   "metadata": {},
   "outputs": [],
   "source": []
  }
 ],
 "metadata": {
  "kernelspec": {
   "display_name": "Python 3",
   "language": "python",
   "name": "python3"
  },
  "language_info": {
   "codemirror_mode": {
    "name": "ipython",
    "version": 3
   },
   "file_extension": ".py",
   "mimetype": "text/x-python",
   "name": "python",
   "nbconvert_exporter": "python",
   "pygments_lexer": "ipython3",
   "version": "3.7.6"
  }
 },
 "nbformat": 4,
 "nbformat_minor": 4
}
